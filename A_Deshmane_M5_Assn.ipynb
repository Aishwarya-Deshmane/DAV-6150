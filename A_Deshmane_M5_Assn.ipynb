{
 "cells": [
  {
   "cell_type": "markdown",
   "id": "419e505f",
   "metadata": {},
   "source": [
    "## Module 5 : Understanding Classification Model Performance Metrics\n",
    "### Aishwarya Deshmane, Xin Xiang"
   ]
  },
  {
   "cell_type": "markdown",
   "id": "dba15bbd",
   "metadata": {},
   "source": [
    "### Introduction:\n",
    "\n",
    "The data set is comprised of 181 labeled binary observations and the classifications are either ‘0’ or ‘1’. It has column \"class\" with actual classification and \"scored.class\" with predicted classification. It also has the probability score.\n",
    "\n",
    "The task is to understand and create the defined functions to calculate classification metrics and compare it with the in-built defined functions"
   ]
  },
  {
   "cell_type": "code",
   "execution_count": 1,
   "id": "d6b1f66d",
   "metadata": {},
   "outputs": [],
   "source": [
    "#1\n",
    "#load the library\n",
    "import pandas as pd\n",
    "import numpy as np\n",
    "import matplotlib.pyplot as plt\n",
    "%matplotlib inline"
   ]
  },
  {
   "cell_type": "code",
   "execution_count": 2,
   "id": "ff5410a8",
   "metadata": {},
   "outputs": [],
   "source": [
    "#2\n",
    "#load data from github\n",
    "path = \"https://raw.githubusercontent.com/Aishwarya-Deshmane/DAV-6150/main/M5_Data.csv\"\n",
    "df = pd.read_csv(path)"
   ]
  },
  {
   "cell_type": "code",
   "execution_count": 3,
   "id": "e09d9b17",
   "metadata": {
    "scrolled": true
   },
   "outputs": [
    {
     "data": {
      "text/html": [
       "<div>\n",
       "<style scoped>\n",
       "    .dataframe tbody tr th:only-of-type {\n",
       "        vertical-align: middle;\n",
       "    }\n",
       "\n",
       "    .dataframe tbody tr th {\n",
       "        vertical-align: top;\n",
       "    }\n",
       "\n",
       "    .dataframe thead th {\n",
       "        text-align: right;\n",
       "    }\n",
       "</style>\n",
       "<table border=\"1\" class=\"dataframe\">\n",
       "  <thead>\n",
       "    <tr style=\"text-align: right;\">\n",
       "      <th></th>\n",
       "      <th>pregnant</th>\n",
       "      <th>glucose</th>\n",
       "      <th>diastolic</th>\n",
       "      <th>skinfold</th>\n",
       "      <th>insulin</th>\n",
       "      <th>bmi</th>\n",
       "      <th>pedigree</th>\n",
       "      <th>age</th>\n",
       "      <th>class</th>\n",
       "      <th>scored.class</th>\n",
       "      <th>scored.probability</th>\n",
       "    </tr>\n",
       "  </thead>\n",
       "  <tbody>\n",
       "    <tr>\n",
       "      <th>0</th>\n",
       "      <td>7</td>\n",
       "      <td>124</td>\n",
       "      <td>70</td>\n",
       "      <td>33</td>\n",
       "      <td>215</td>\n",
       "      <td>25.5</td>\n",
       "      <td>0.161</td>\n",
       "      <td>37</td>\n",
       "      <td>0</td>\n",
       "      <td>0</td>\n",
       "      <td>0.328452</td>\n",
       "    </tr>\n",
       "    <tr>\n",
       "      <th>1</th>\n",
       "      <td>2</td>\n",
       "      <td>122</td>\n",
       "      <td>76</td>\n",
       "      <td>27</td>\n",
       "      <td>200</td>\n",
       "      <td>35.9</td>\n",
       "      <td>0.483</td>\n",
       "      <td>26</td>\n",
       "      <td>0</td>\n",
       "      <td>0</td>\n",
       "      <td>0.273190</td>\n",
       "    </tr>\n",
       "    <tr>\n",
       "      <th>2</th>\n",
       "      <td>3</td>\n",
       "      <td>107</td>\n",
       "      <td>62</td>\n",
       "      <td>13</td>\n",
       "      <td>48</td>\n",
       "      <td>22.9</td>\n",
       "      <td>0.678</td>\n",
       "      <td>23</td>\n",
       "      <td>1</td>\n",
       "      <td>0</td>\n",
       "      <td>0.109660</td>\n",
       "    </tr>\n",
       "    <tr>\n",
       "      <th>3</th>\n",
       "      <td>1</td>\n",
       "      <td>91</td>\n",
       "      <td>64</td>\n",
       "      <td>24</td>\n",
       "      <td>0</td>\n",
       "      <td>29.2</td>\n",
       "      <td>0.192</td>\n",
       "      <td>21</td>\n",
       "      <td>0</td>\n",
       "      <td>0</td>\n",
       "      <td>0.055998</td>\n",
       "    </tr>\n",
       "    <tr>\n",
       "      <th>4</th>\n",
       "      <td>4</td>\n",
       "      <td>83</td>\n",
       "      <td>86</td>\n",
       "      <td>19</td>\n",
       "      <td>0</td>\n",
       "      <td>29.3</td>\n",
       "      <td>0.317</td>\n",
       "      <td>34</td>\n",
       "      <td>0</td>\n",
       "      <td>0</td>\n",
       "      <td>0.100491</td>\n",
       "    </tr>\n",
       "    <tr>\n",
       "      <th>...</th>\n",
       "      <td>...</td>\n",
       "      <td>...</td>\n",
       "      <td>...</td>\n",
       "      <td>...</td>\n",
       "      <td>...</td>\n",
       "      <td>...</td>\n",
       "      <td>...</td>\n",
       "      <td>...</td>\n",
       "      <td>...</td>\n",
       "      <td>...</td>\n",
       "      <td>...</td>\n",
       "    </tr>\n",
       "    <tr>\n",
       "      <th>176</th>\n",
       "      <td>5</td>\n",
       "      <td>123</td>\n",
       "      <td>74</td>\n",
       "      <td>40</td>\n",
       "      <td>77</td>\n",
       "      <td>34.1</td>\n",
       "      <td>0.269</td>\n",
       "      <td>28</td>\n",
       "      <td>0</td>\n",
       "      <td>0</td>\n",
       "      <td>0.311420</td>\n",
       "    </tr>\n",
       "    <tr>\n",
       "      <th>177</th>\n",
       "      <td>4</td>\n",
       "      <td>146</td>\n",
       "      <td>78</td>\n",
       "      <td>0</td>\n",
       "      <td>0</td>\n",
       "      <td>38.5</td>\n",
       "      <td>0.520</td>\n",
       "      <td>67</td>\n",
       "      <td>1</td>\n",
       "      <td>1</td>\n",
       "      <td>0.707210</td>\n",
       "    </tr>\n",
       "    <tr>\n",
       "      <th>178</th>\n",
       "      <td>8</td>\n",
       "      <td>188</td>\n",
       "      <td>78</td>\n",
       "      <td>0</td>\n",
       "      <td>0</td>\n",
       "      <td>47.9</td>\n",
       "      <td>0.137</td>\n",
       "      <td>43</td>\n",
       "      <td>1</td>\n",
       "      <td>1</td>\n",
       "      <td>0.888277</td>\n",
       "    </tr>\n",
       "    <tr>\n",
       "      <th>179</th>\n",
       "      <td>9</td>\n",
       "      <td>120</td>\n",
       "      <td>72</td>\n",
       "      <td>22</td>\n",
       "      <td>56</td>\n",
       "      <td>20.8</td>\n",
       "      <td>0.733</td>\n",
       "      <td>48</td>\n",
       "      <td>0</td>\n",
       "      <td>0</td>\n",
       "      <td>0.422468</td>\n",
       "    </tr>\n",
       "    <tr>\n",
       "      <th>180</th>\n",
       "      <td>0</td>\n",
       "      <td>102</td>\n",
       "      <td>86</td>\n",
       "      <td>17</td>\n",
       "      <td>105</td>\n",
       "      <td>29.3</td>\n",
       "      <td>0.695</td>\n",
       "      <td>27</td>\n",
       "      <td>0</td>\n",
       "      <td>0</td>\n",
       "      <td>0.119981</td>\n",
       "    </tr>\n",
       "  </tbody>\n",
       "</table>\n",
       "<p>181 rows × 11 columns</p>\n",
       "</div>"
      ],
      "text/plain": [
       "     pregnant  glucose  diastolic  skinfold  insulin   bmi  pedigree  age  \\\n",
       "0           7      124         70        33      215  25.5     0.161   37   \n",
       "1           2      122         76        27      200  35.9     0.483   26   \n",
       "2           3      107         62        13       48  22.9     0.678   23   \n",
       "3           1       91         64        24        0  29.2     0.192   21   \n",
       "4           4       83         86        19        0  29.3     0.317   34   \n",
       "..        ...      ...        ...       ...      ...   ...       ...  ...   \n",
       "176         5      123         74        40       77  34.1     0.269   28   \n",
       "177         4      146         78         0        0  38.5     0.520   67   \n",
       "178         8      188         78         0        0  47.9     0.137   43   \n",
       "179         9      120         72        22       56  20.8     0.733   48   \n",
       "180         0      102         86        17      105  29.3     0.695   27   \n",
       "\n",
       "     class  scored.class  scored.probability  \n",
       "0        0             0            0.328452  \n",
       "1        0             0            0.273190  \n",
       "2        1             0            0.109660  \n",
       "3        0             0            0.055998  \n",
       "4        0             0            0.100491  \n",
       "..     ...           ...                 ...  \n",
       "176      0             0            0.311420  \n",
       "177      1             1            0.707210  \n",
       "178      1             1            0.888277  \n",
       "179      0             0            0.422468  \n",
       "180      0             0            0.119981  \n",
       "\n",
       "[181 rows x 11 columns]"
      ]
     },
     "execution_count": 3,
     "metadata": {},
     "output_type": "execute_result"
    }
   ],
   "source": [
    "df"
   ]
  },
  {
   "cell_type": "code",
   "execution_count": 4,
   "id": "35f71453",
   "metadata": {},
   "outputs": [
    {
     "data": {
      "text/html": [
       "<div>\n",
       "<style scoped>\n",
       "    .dataframe tbody tr th:only-of-type {\n",
       "        vertical-align: middle;\n",
       "    }\n",
       "\n",
       "    .dataframe tbody tr th {\n",
       "        vertical-align: top;\n",
       "    }\n",
       "\n",
       "    .dataframe thead th {\n",
       "        text-align: right;\n",
       "    }\n",
       "</style>\n",
       "<table border=\"1\" class=\"dataframe\">\n",
       "  <thead>\n",
       "    <tr style=\"text-align: right;\">\n",
       "      <th>class</th>\n",
       "      <th>0</th>\n",
       "      <th>1</th>\n",
       "    </tr>\n",
       "    <tr>\n",
       "      <th>scored.class</th>\n",
       "      <th></th>\n",
       "      <th></th>\n",
       "    </tr>\n",
       "  </thead>\n",
       "  <tbody>\n",
       "    <tr>\n",
       "      <th>0</th>\n",
       "      <td>119</td>\n",
       "      <td>30</td>\n",
       "    </tr>\n",
       "    <tr>\n",
       "      <th>1</th>\n",
       "      <td>5</td>\n",
       "      <td>27</td>\n",
       "    </tr>\n",
       "  </tbody>\n",
       "</table>\n",
       "</div>"
      ],
      "text/plain": [
       "class           0   1\n",
       "scored.class         \n",
       "0             119  30\n",
       "1               5  27"
      ]
     },
     "execution_count": 4,
     "metadata": {},
     "output_type": "execute_result"
    }
   ],
   "source": [
    "#3.a\n",
    "#crosstab the counts of Actual vs predicted\n",
    "ct = pd.crosstab(df['class'],df['scored.class']).T\n",
    "ct"
   ]
  },
  {
   "cell_type": "markdown",
   "id": "adc1143c",
   "metadata": {},
   "source": [
    "- Class has the actual values and scored class has the predicted values\n",
    "- Actual classification has 119+5 = 24 zeros and 30+27 = 57 ones in it\n",
    "- Predicted classification has 119+30 = 149 zeros and 5+27 = 32 ones in it\n",
    "- Verified the counts below using value_counts()"
   ]
  },
  {
   "cell_type": "code",
   "execution_count": 5,
   "id": "a4d27f1c",
   "metadata": {},
   "outputs": [
    {
     "data": {
      "text/plain": [
       "0    124\n",
       "1     57\n",
       "Name: class, dtype: int64"
      ]
     },
     "execution_count": 5,
     "metadata": {},
     "output_type": "execute_result"
    }
   ],
   "source": [
    "#3.b\n",
    "#value_counts of actual classification\n",
    "df['class'].value_counts()"
   ]
  },
  {
   "cell_type": "code",
   "execution_count": 6,
   "id": "bd475d87",
   "metadata": {},
   "outputs": [
    {
     "data": {
      "text/plain": [
       "0    149\n",
       "1     32\n",
       "Name: scored.class, dtype: int64"
      ]
     },
     "execution_count": 6,
     "metadata": {},
     "output_type": "execute_result"
    }
   ],
   "source": [
    "#3.c\n",
    "#values_counts of predicted classification\n",
    "df['scored.class'].value_counts()"
   ]
  },
  {
   "cell_type": "code",
   "execution_count": 7,
   "id": "73c43a16",
   "metadata": {},
   "outputs": [
    {
     "data": {
      "text/plain": [
       "(0.0848, 0.146]     36\n",
       "(0.0213, 0.0848]    25\n",
       "(0.146, 0.208]      22\n",
       "(0.269, 0.331]      20\n",
       "(0.208, 0.269]      13\n",
       "(0.331, 0.392]      12\n",
       "(0.454, 0.516]      11\n",
       "(0.392, 0.454]      10\n",
       "(0.577, 0.639]       6\n",
       "(0.639, 0.7]         6\n",
       "(0.516, 0.577]       5\n",
       "(0.823, 0.885]       5\n",
       "(0.7, 0.762]         4\n",
       "(0.885, 0.946]       4\n",
       "(0.762, 0.823]       2\n",
       "Name: scored.probability, dtype: int64"
      ]
     },
     "execution_count": 7,
     "metadata": {},
     "output_type": "execute_result"
    }
   ],
   "source": [
    "#verify the count if predicted values are 1 when probability is greater than 1\n",
    "df['scored.probability'].value_counts(bins = 15)"
   ]
  },
  {
   "cell_type": "code",
   "execution_count": 8,
   "id": "a30aab8e",
   "metadata": {},
   "outputs": [
    {
     "name": "stdout",
     "output_type": "stream",
     "text": [
      "True Positive : 27\n",
      "True Negative : 119\n",
      "False Positive : 5\n",
      "False Negative : 30\n"
     ]
    }
   ],
   "source": [
    "#4\n",
    "#Assign and print the values of confusion matrix\n",
    "TP = ct.iloc[1,1]\n",
    "print(\"True Positive :\",TP)\n",
    "TN = ct.iloc[0,0]\n",
    "print(\"True Negative :\",TN)\n",
    "FP = ct.iloc[1,0]\n",
    "print(\"False Positive :\",FP)\n",
    "FN = ct.iloc[0,1]\n",
    "print(\"False Negative :\",FN)"
   ]
  },
  {
   "cell_type": "markdown",
   "id": "b0141e40",
   "metadata": {},
   "source": [
    "### Define functions for the required metrics"
   ]
  },
  {
   "cell_type": "code",
   "execution_count": 9,
   "id": "26ae548a",
   "metadata": {},
   "outputs": [],
   "source": [
    "#5\n",
    "#Accuracy metric\n",
    "def accuracy_m(col1,col2):\n",
    "    '''\n",
    "    This function will calculate the accuracy.\n",
    "    It takes 2 binary columns as inputs, col1- actual values and col2- predicted values.\n",
    "    It creates dataframe with the input columns and calculate crosstab.\n",
    "    Assigns the values of confusion matrix and calculates the score.\n",
    "    '''\n",
    "    df1 = pd.DataFrame()\n",
    "    df1['col1'] = col1\n",
    "    df1['col2'] = col2\n",
    "    ct1 = pd.crosstab(df1['col1'],df1['col2']).T\n",
    "    tp_1 = ct1.iloc[1,1]\n",
    "    tn_1 = ct1.iloc[0,0]\n",
    "    fp_1 = ct1.iloc[1,0]\n",
    "    fn_1 = ct1.iloc[0,1]\n",
    "    \n",
    "    acc_m = (tp_1+tn_1)/(tp_1+tn_1+fp_1+fn_1)\n",
    "    \n",
    "    return acc_m"
   ]
  },
  {
   "cell_type": "code",
   "execution_count": 10,
   "id": "b832cf85",
   "metadata": {},
   "outputs": [],
   "source": [
    "#6\n",
    "#Precision metric\n",
    "def precision_m(col1,col2):\n",
    "    '''\n",
    "    This function will calculate the precision.\n",
    "    It takes 2 binary columns as inputs, col1- actual values and col2- predicted values.\n",
    "    It creates dataframe with the input columns and calculate crosstab.\n",
    "    Assigns the values of confusion matrix and calculates the score.\n",
    "    '''\n",
    "    df1 = pd.DataFrame()\n",
    "    df1['col1'] = col1\n",
    "    df1['col2'] = col2\n",
    "    ct1 = pd.crosstab(df1['col1'],df1['col2']).T\n",
    "    tp_1 = ct1.iloc[1,1]\n",
    "    tn_1 = ct1.iloc[0,0]\n",
    "    fp_1 = ct1.iloc[1,0]\n",
    "    fn_1 = ct1.iloc[0,1]\n",
    "    \n",
    "    prc_m = (tp_1)/(tp_1+fp_1)\n",
    "    \n",
    "    return prc_m"
   ]
  },
  {
   "cell_type": "code",
   "execution_count": 11,
   "id": "281f58f0",
   "metadata": {},
   "outputs": [],
   "source": [
    "#7\n",
    "#Sensitivity or recall metric\n",
    "def recall_m(col1,col2):\n",
    "    '''\n",
    "    This function will calculate the recall.\n",
    "    It takes 2 binary columns as inputs, col1- actual values and col2- predicted values.\n",
    "    It creates dataframe with the input columns and calculate crosstab.\n",
    "    Assigns the values of confusion matrix and calculates the score.\n",
    "    '''\n",
    "    df1 = pd.DataFrame()\n",
    "    df1['col1'] = col1\n",
    "    df1['col2'] = col2\n",
    "    ct1 = pd.crosstab(df1['col1'],df1['col2']).T\n",
    "    tp_1 = ct1.iloc[1,1]\n",
    "    tn_1 = ct1.iloc[0,0]\n",
    "    fp_1 = ct1.iloc[1,0]\n",
    "    fn_1 = ct1.iloc[0,1]\n",
    "    \n",
    "    rec_m = (tp_1)/(tp_1+fn_1)\n",
    "    \n",
    "    return rec_m"
   ]
  },
  {
   "cell_type": "code",
   "execution_count": 12,
   "id": "ee7810f9",
   "metadata": {},
   "outputs": [],
   "source": [
    "#8\n",
    "#Specificity metric\n",
    "def specificity_m(col1,col2):\n",
    "    '''\n",
    "    This function will calculate the specificity.\n",
    "    It takes 2 binary columns as inputs, col1- actual values and col2- predicted values.\n",
    "    It creates dataframe with the input columns and calculate crosstab.\n",
    "    Assigns the values of confusion matrix and calculates the score.\n",
    "    '''\n",
    "    df1 = pd.DataFrame()\n",
    "    df1['col1'] = col1\n",
    "    df1['col2'] = col2\n",
    "    ct1 = pd.crosstab(df1['col1'],df1['col2']).T\n",
    "    tp_1 = ct1.iloc[1,1]\n",
    "    tn_1 = ct1.iloc[0,0]\n",
    "    fp_1 = ct1.iloc[1,0]\n",
    "    fn_1 = ct1.iloc[0,1]\n",
    "    \n",
    "    spc_m = (tn_1)/(tn_1+fp_1)\n",
    "    \n",
    "    return spc_m"
   ]
  },
  {
   "cell_type": "code",
   "execution_count": 13,
   "id": "abc19954",
   "metadata": {},
   "outputs": [],
   "source": [
    "#9\n",
    "#F-1 metric\n",
    "def f1_m(col1,col2):\n",
    "    '''\n",
    "    This function will calculate the F-1 score.\n",
    "    It takes 2 binary columns as inputs, col1- actual values and col2- predicted values.\n",
    "    It creates dataframe with the input columns and calculate crosstab.\n",
    "    Assigns the values of confusion matrix and calculates the precision and recall.\n",
    "    Calculates F_1 score using precision and recall scores.\n",
    "    '''\n",
    "    df1 = pd.DataFrame()\n",
    "    df1['col1'] = col1\n",
    "    df1['col2'] = col2\n",
    "    ct1 = pd.crosstab(df1['col1'],df1['col2']).T\n",
    "    tp_1 = ct1.iloc[1,1]\n",
    "    tn_1 = ct1.iloc[0,0]\n",
    "    fp_1 = ct1.iloc[1,0]\n",
    "    fn_1 = ct1.iloc[0,1]\n",
    "    fs_m = (tn_1)/(tn_1+fp_1)\n",
    "    \n",
    "    p = (tp_1)/(tp_1+fp_1)\n",
    "    r = (tp_1)/(tp_1+fn_1)\n",
    "    \n",
    "    fs_m = (2*p*r)/(p+r)\n",
    "    \n",
    "    return fs_m"
   ]
  },
  {
   "cell_type": "code",
   "execution_count": 14,
   "id": "679f8311",
   "metadata": {},
   "outputs": [],
   "source": [
    "#10\n",
    "#ROC curve and AUC\n",
    "def roc_auc_m(col1,col2):\n",
    "    '''\n",
    "    This function will calculate the roc curve and auc.\n",
    "    It takes 2 binary columns as inputs, col1- actual values and col2- probability values.\n",
    "    it uses thresholds to get each scores.probability and create a null tpr list and fpr list to prapare store the value \n",
    "    it use only true value to calculate the postive numbers and negatiave numbers\n",
    "    then use for loop to get the threshhold and the index\n",
    "    in the for loop, create a new column called pred to stroe if the score is greater than probablity threshhold\n",
    "    then calculate the tp,fp value and store tpr and fpr in the corresponive list.\n",
    "    \n",
    "    use plot function to draw a plot of tpr and fpr\n",
    "    \n",
    "    finally use trapz function to calculate the AUC value\n",
    "    '''\n",
    "    # Get the unique thresholds in descending order\n",
    "    thresholds = np.unique(np.sort(col2))[::-1]\n",
    "\n",
    "    # Initialize variables to store false positive rates (FPR) and true positive rates (TPR)\n",
    "    tpr = np.zeros(len(thresholds))\n",
    "    fpr = np.zeros(len(thresholds))\n",
    "\n",
    "    # Calculate the total number of positive and negative instances\n",
    "    num_pos = np.sum(col1)\n",
    "    num_neg = len(col1) - num_pos\n",
    "\n",
    "    # Loop over each threshold to calculate TPR and FPR\n",
    "    for i, threshold in enumerate(thresholds):\n",
    "        # Get the binary predictions for the current threshold\n",
    "        y_pred = np.where(col2 >= threshold, 1, 0)\n",
    "\n",
    "        # Calculate the true positive rate (TPR) and false positive rate (FPR)\n",
    "        tp = np.sum(np.logical_and(y_pred == 1, col1 == 1))\n",
    "        fp = np.sum(np.logical_and(y_pred == 1, col1 == 0))\n",
    "        tpr[i] = tp / num_pos\n",
    "        fpr[i] = fp / num_neg\n",
    "\n",
    "    # Plot the ROC curve\n",
    "    plt.plot(fpr, tpr)\n",
    "    plt.plot([0, 1], [0, 1], 'k--')\n",
    "    plt.xlabel('False Positive Rate')\n",
    "    plt.ylabel('True Positive Rate')\n",
    "    plt.title('ROC Curve')\n",
    "    plt.show()\n",
    "\n",
    "    # Calculate the AUC (Area Under the Curve) for the ROC curve using the trapezoidal rule\n",
    "    auc = np.trapz(tpr, fpr)\n",
    "\n",
    "    # Return the AUC value\n",
    "    return auc\n",
    "\n",
    "#citation for ROC curve and AUC: chagpt"
   ]
  },
  {
   "cell_type": "markdown",
   "id": "3af6b42b",
   "metadata": {},
   "source": [
    "### Print the metrics scores using above defined functions"
   ]
  },
  {
   "cell_type": "code",
   "execution_count": 15,
   "id": "a8fa3f6d",
   "metadata": {
    "scrolled": true
   },
   "outputs": [
    {
     "data": {
      "text/plain": [
       "0.8066298342541437"
      ]
     },
     "execution_count": 15,
     "metadata": {},
     "output_type": "execute_result"
    }
   ],
   "source": [
    "#11.a\n",
    "#print accuracy score using defined function\n",
    "accuracy_m(df['class'],df['scored.class'])"
   ]
  },
  {
   "cell_type": "code",
   "execution_count": 16,
   "id": "ed966975",
   "metadata": {},
   "outputs": [
    {
     "data": {
      "text/plain": [
       "0.84375"
      ]
     },
     "execution_count": 16,
     "metadata": {},
     "output_type": "execute_result"
    }
   ],
   "source": [
    "#11.b\n",
    "#print precision score using defined function\n",
    "precision_m(df['class'],df['scored.class'])"
   ]
  },
  {
   "cell_type": "code",
   "execution_count": 17,
   "id": "e961cede",
   "metadata": {},
   "outputs": [
    {
     "data": {
      "text/plain": [
       "0.47368421052631576"
      ]
     },
     "execution_count": 17,
     "metadata": {},
     "output_type": "execute_result"
    }
   ],
   "source": [
    "#11.c\n",
    "#print recall score using defined function\n",
    "recall_m(df['class'],df['scored.class'])"
   ]
  },
  {
   "cell_type": "code",
   "execution_count": 18,
   "id": "5f744d77",
   "metadata": {},
   "outputs": [
    {
     "data": {
      "text/plain": [
       "0.9596774193548387"
      ]
     },
     "execution_count": 18,
     "metadata": {},
     "output_type": "execute_result"
    }
   ],
   "source": [
    "#11.d\n",
    "#print specificity score using defined function\n",
    "specificity_m(df['class'],df['scored.class'])"
   ]
  },
  {
   "cell_type": "code",
   "execution_count": 19,
   "id": "c976c1ce",
   "metadata": {},
   "outputs": [
    {
     "data": {
      "text/plain": [
       "0.6067415730337079"
      ]
     },
     "execution_count": 19,
     "metadata": {},
     "output_type": "execute_result"
    }
   ],
   "source": [
    "#11.e\n",
    "#print F_1 score using defined function\n",
    "f1_m(df['class'],df['scored.class'])"
   ]
  },
  {
   "cell_type": "code",
   "execution_count": 20,
   "id": "08a48905",
   "metadata": {},
   "outputs": [
    {
     "data": {
      "image/png": "[encoded data removed]",
      "text/plain": [
       "<Figure size 432x288 with 1 Axes>"
      ]
     },
     "metadata": {
      "needs_background": "light"
     },
     "output_type": "display_data"
    },
    {
     "data": {
      "text/plain": [
       "0.85"
      ]
     },
     "execution_count": 20,
     "metadata": {},
     "output_type": "execute_result"
    }
   ],
   "source": [
    "#11.f\n",
    "#print AUC score using defined function\n",
    "round(roc_auc_m(df['class'],df['scored.probability']),3)"
   ]
  },
  {
   "cell_type": "markdown",
   "id": "e5678bd1",
   "metadata": {},
   "source": [
    "### Calculate the scores using in-built functions"
   ]
  },
  {
   "cell_type": "code",
   "execution_count": 21,
   "id": "55d08351",
   "metadata": {},
   "outputs": [],
   "source": [
    "#12\n",
    "#load libraries from sklearn to calculate the scores using in-built functions\n",
    "from sklearn.metrics import confusion_matrix, accuracy_score, precision_score, recall_score\n",
    "from sklearn.metrics import f1_score, classification_report, roc_curve, roc_auc_score"
   ]
  },
  {
   "cell_type": "code",
   "execution_count": 22,
   "id": "9aa46f62",
   "metadata": {},
   "outputs": [
    {
     "data": {
      "text/plain": [
       "array([[119,   5],\n",
       "       [ 30,  27]])"
      ]
     },
     "execution_count": 22,
     "metadata": {},
     "output_type": "execute_result"
    }
   ],
   "source": [
    "confusion_matrix(df['class'],df['scored.class'])"
   ]
  },
  {
   "cell_type": "code",
   "execution_count": 23,
   "id": "e4816f6a",
   "metadata": {},
   "outputs": [
    {
     "data": {
      "text/plain": [
       "0.8066298342541437"
      ]
     },
     "execution_count": 23,
     "metadata": {},
     "output_type": "execute_result"
    }
   ],
   "source": [
    "accuracy_score(df['class'],df['scored.class'])"
   ]
  },
  {
   "cell_type": "code",
   "execution_count": 24,
   "id": "e1898353",
   "metadata": {},
   "outputs": [
    {
     "data": {
      "text/plain": [
       "0.84375"
      ]
     },
     "execution_count": 24,
     "metadata": {},
     "output_type": "execute_result"
    }
   ],
   "source": [
    "precision_score(df['class'],df['scored.class'])"
   ]
  },
  {
   "cell_type": "code",
   "execution_count": 25,
   "id": "2a79024d",
   "metadata": {},
   "outputs": [
    {
     "data": {
      "text/plain": [
       "0.47368421052631576"
      ]
     },
     "execution_count": 25,
     "metadata": {},
     "output_type": "execute_result"
    }
   ],
   "source": [
    "recall_score(df['class'],df['scored.class'])"
   ]
  },
  {
   "cell_type": "code",
   "execution_count": 26,
   "id": "a951adde",
   "metadata": {},
   "outputs": [
    {
     "data": {
      "text/plain": [
       "0.6067415730337079"
      ]
     },
     "execution_count": 26,
     "metadata": {},
     "output_type": "execute_result"
    }
   ],
   "source": [
    "f1_score(df['class'],df['scored.class'])"
   ]
  },
  {
   "cell_type": "code",
   "execution_count": 27,
   "id": "c48b458f",
   "metadata": {},
   "outputs": [
    {
     "name": "stdout",
     "output_type": "stream",
     "text": [
      "              precision    recall  f1-score   support\n",
      "\n",
      "           0       0.80      0.96      0.87       124\n",
      "           1       0.84      0.47      0.61        57\n",
      "\n",
      "    accuracy                           0.81       181\n",
      "   macro avg       0.82      0.72      0.74       181\n",
      "weighted avg       0.81      0.81      0.79       181\n",
      "\n"
     ]
    }
   ],
   "source": [
    "print(classification_report(df['class'],df['scored.class']))"
   ]
  },
  {
   "cell_type": "code",
   "execution_count": 28,
   "id": "f15b966c",
   "metadata": {},
   "outputs": [
    {
     "data": {
      "text/plain": [
       "<matplotlib.legend.Legend at 0x7f8fe3382bb0>"
      ]
     },
     "execution_count": 28,
     "metadata": {},
     "output_type": "execute_result"
    },
    {
     "data": {
      "image/png": "[encoded data removed]",
      "text/plain": [
       "<Figure size 432x288 with 1 Axes>"
      ]
     },
     "metadata": {
      "needs_background": "light"
     },
     "output_type": "display_data"
    }
   ],
   "source": [
    "fpr,tpr,threshold = roc_curve(df['class'],df['scored.probability'])\n",
    "plt.plot(fpr,tpr,label = \"ROC curve\")\n",
    "plt.plot([0,1],[0,1],'k--',label=\"Random guess\")\n",
    "plt.xlabel('False positive rate')\n",
    "plt.ylabel('True positive rate')\n",
    "plt.title('ROC curve')\n",
    "plt.xlim([-0.02,1])\n",
    "plt.ylim([0,1.02])\n",
    "plt.legend(loc = \"lower right\")"
   ]
  },
  {
   "cell_type": "code",
   "execution_count": 29,
   "id": "7b7fd627",
   "metadata": {},
   "outputs": [
    {
     "data": {
      "text/plain": [
       "0.85"
      ]
     },
     "execution_count": 29,
     "metadata": {},
     "output_type": "execute_result"
    }
   ],
   "source": [
    "round(roc_auc_score(df['class'],df['scored.probability']),3)"
   ]
  },
  {
   "cell_type": "markdown",
   "id": "abe3d1f0",
   "metadata": {},
   "source": [
    "### Compare the scores with defined functions and in-built functions"
   ]
  },
  {
   "cell_type": "code",
   "execution_count": 30,
   "id": "fea33ae6",
   "metadata": {},
   "outputs": [
    {
     "data": {
      "text/plain": [
       "True"
      ]
     },
     "execution_count": 30,
     "metadata": {},
     "output_type": "execute_result"
    }
   ],
   "source": [
    "accuracy_m(df['class'],df['scored.class']) == accuracy_score(df['class'],df['scored.class'])"
   ]
  },
  {
   "cell_type": "code",
   "execution_count": 31,
   "id": "525a7d9d",
   "metadata": {},
   "outputs": [
    {
     "data": {
      "text/plain": [
       "True"
      ]
     },
     "execution_count": 31,
     "metadata": {},
     "output_type": "execute_result"
    }
   ],
   "source": [
    "precision_m(df['class'],df['scored.class']) == precision_score(df['class'],df['scored.class'])"
   ]
  },
  {
   "cell_type": "code",
   "execution_count": 32,
   "id": "72741ecd",
   "metadata": {},
   "outputs": [
    {
     "data": {
      "text/plain": [
       "True"
      ]
     },
     "execution_count": 32,
     "metadata": {},
     "output_type": "execute_result"
    }
   ],
   "source": [
    "recall_m(df['class'],df['scored.class']) == recall_score(df['class'],df['scored.class'])"
   ]
  },
  {
   "cell_type": "code",
   "execution_count": 33,
   "id": "19bbd604",
   "metadata": {},
   "outputs": [
    {
     "data": {
      "text/plain": [
       "True"
      ]
     },
     "execution_count": 33,
     "metadata": {},
     "output_type": "execute_result"
    }
   ],
   "source": [
    "f1_m(df['class'],df['scored.class']) == f1_score(df['class'],df['scored.class'])"
   ]
  },
  {
   "cell_type": "code",
   "execution_count": 34,
   "id": "3dcfdf56",
   "metadata": {},
   "outputs": [
    {
     "data": {
      "image/png": "[encoded data removed]",
      "text/plain": [
       "<Figure size 432x288 with 1 Axes>"
      ]
     },
     "metadata": {
      "needs_background": "light"
     },
     "output_type": "display_data"
    },
    {
     "data": {
      "text/plain": [
       "True"
      ]
     },
     "execution_count": 34,
     "metadata": {},
     "output_type": "execute_result"
    }
   ],
   "source": [
    "round(roc_auc_m(df['class'],df['scored.probability']),3) == round(roc_auc_score(df['class'],df['scored.probability']),3)                                                                 "
   ]
  },
  {
   "cell_type": "markdown",
   "id": "d7f1ce8b",
   "metadata": {},
   "source": [
    "The scores calculated with defined functions is same as the score calculated using sklearn in-built functions"
   ]
  },
  {
   "cell_type": "markdown",
   "id": "88b6d8bc",
   "metadata": {},
   "source": [
    "### Conclusion:\n",
    "For the given dataset-\n",
    "- Accuracy score is 81%\n",
    "- Precision score is 84%\n",
    "- Recall or sensitivity score is 47%\n",
    "- Specificity score is 96%\n",
    "- F_1 score is 61%\n",
    "- AUC score is 85%\n",
    "- The scores calculated using defined functions matches the score calculated using in-built functions"
   ]
  }
 ],
 "metadata": {
  "kernelspec": {
   "display_name": "Python 3 (ipykernel)",
   "language": "python",
   "name": "python3"
  },
  "language_info": {
   "codemirror_mode": {
    "name": "ipython",
    "version": 3
   },
   "file_extension": ".py",
   "mimetype": "text/x-python",
   "name": "python",
   "nbconvert_exporter": "python",
   "pygments_lexer": "ipython3",
   "version": "3.9.12"
  }
 },
 "nbformat": 4,
 "nbformat_minor": 5
}
